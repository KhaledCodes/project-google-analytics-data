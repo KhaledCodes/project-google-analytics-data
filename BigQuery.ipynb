{
 "cells": [
  {
   "source": [
    "# Instructions to use this notebook are here: https://cloud.google.com/bigquery/docs/quickstarts/quickstart-client-libraries\n",
    "from google.cloud import bigquery\n",
    "import os\n",
    "import pandas as pd"
   ],
   "cell_type": "code",
   "outputs": [],
   "metadata": {},
   "execution_count": 1
  },
  {
   "source": [
    "os.environ[\"GOOGLE_APPLICATION_CREDENTIALS\"] = \"BigQueryCreds.json\""
   ],
   "cell_type": "code",
   "outputs": [],
   "metadata": {},
   "execution_count": 2
  },
  {
   "source": [
    "client = bigquery.Client()"
   ],
   "cell_type": "code",
   "outputs": [],
   "metadata": {},
   "execution_count": 3
  },
  {
   "source": [
    "query_job = client.query(\"\"\"\n",
    "    SELECT visitorId,visitId,visitStartTime,date,totals.visits,totals.hits,totals.timeonsite,totals.bounces,totals.transactions,totals.transactionrevenue,totals.newvisits,totals.timeonscreen,trafficsource.campaign,trafficsource.keyword,device.ismobile,device.operatingsystem,geonetwork.country,geonetwork.city,geonetwork.networkdomain FROM `bigquery-public-data.google_analytics_sample.ga_sessions_20160901`\"\"\")\n",
    "\n",
    "results = query_job.result()  # Waits for job to complete."
   ],
   "cell_type": "code",
   "outputs": [],
   "metadata": {},
   "execution_count": 4
  },
  {
   "source": [
    "bq_df = results.to_dataframe()"
   ],
   "cell_type": "code",
   "outputs": [],
   "metadata": {},
   "execution_count": 5
  },
  {
   "source": [
    "bq_df"
   ],
   "cell_type": "code",
   "outputs": [
    {
     "output_type": "execute_result",
     "data": {
      "text/plain": "     visitorId     visitId  visitStartTime      date  visits  hits  \\\n0         None  1472743915      1472743915  20160901       1     1   \n1         None  1472743125      1472743125  20160901       1     1   \n2         None  1472728566      1472728566  20160901       1     1   \n3         None  1472792306      1472792306  20160901       1     1   \n4         None  1472783251      1472783251  20160901       1     1   \n...        ...         ...             ...       ...     ...   ...   \n2682      None  1472757047      1472757047  20160901       1    14   \n2683      None  1472772090      1472772090  20160901       1    14   \n2684      None  1472737778      1472737778  20160901       1    20   \n2685      None  1472714118      1472714118  20160901       1    38   \n2686      None  1472788273      1472788273  20160901       1    77   \n\n      timeonsite  bounces  transactions  transactionrevenue  newvisits  \\\n0            NaN      1.0           NaN                 NaN        NaN   \n1            NaN      1.0           NaN                 NaN        1.0   \n2            NaN      1.0           NaN                 NaN        1.0   \n3            NaN      1.0           NaN                 NaN        1.0   \n4            NaN      1.0           NaN                 NaN        NaN   \n...          ...      ...           ...                 ...        ...   \n2682       270.0      NaN           NaN                 NaN        NaN   \n2683       151.0      NaN           1.0          25480000.0        NaN   \n2684       463.0      NaN           NaN                 NaN        1.0   \n2685      1134.0      NaN           NaN                 NaN        NaN   \n2686      2293.0      NaN           NaN                 NaN        NaN   \n\n     timeonscreen   campaign         keyword  ismobile operatingsystem  \\\n0            None  (not set)  (not provided)      True         Android   \n1            None  (not set)  (not provided)     False         Windows   \n2            None  (not set)            None     False       Macintosh   \n3            None  (not set)  (not provided)     False         Windows   \n4            None  (not set)  (not provided)     False       Macintosh   \n...           ...        ...             ...       ...             ...   \n2682         None  (not set)            None     False         Windows   \n2683         None  (not set)            None     False         Windows   \n2684         None  (not set)            None     False         Windows   \n2685         None  (not set)            None     False         Windows   \n2686         None  (not set)            None     False         Windows   \n\n            country                           city    networkdomain  \n0         Australia                         Sydney      tpgi.com.au  \n1            France                          Paris          0pb.org  \n2             China  not available in demo dataset     16clouds.com  \n3           Belgium                      (not set)         m247.com  \n4     United States                       New York    optonline.net  \n...             ...                            ...              ...  \n2682         France  not available in demo dataset  unknown.unknown  \n2683  United States  not available in demo dataset        (not set)  \n2684  United States  not available in demo dataset        (not set)  \n2685          Japan  not available in demo dataset        ocn.ne.jp  \n2686       Thailand                        Bangkok  unknown.unknown  \n\n[2687 rows x 19 columns]",
      "text/html": "<div>\n<style scoped>\n    .dataframe tbody tr th:only-of-type {\n        vertical-align: middle;\n    }\n\n    .dataframe tbody tr th {\n        vertical-align: top;\n    }\n\n    .dataframe thead th {\n        text-align: right;\n    }\n</style>\n<table border=\"1\" class=\"dataframe\">\n  <thead>\n    <tr style=\"text-align: right;\">\n      <th></th>\n      <th>visitorId</th>\n      <th>visitId</th>\n      <th>visitStartTime</th>\n      <th>date</th>\n      <th>visits</th>\n      <th>hits</th>\n      <th>timeonsite</th>\n      <th>bounces</th>\n      <th>transactions</th>\n      <th>transactionrevenue</th>\n      <th>newvisits</th>\n      <th>timeonscreen</th>\n      <th>campaign</th>\n      <th>keyword</th>\n      <th>ismobile</th>\n      <th>operatingsystem</th>\n      <th>country</th>\n      <th>city</th>\n      <th>networkdomain</th>\n    </tr>\n  </thead>\n  <tbody>\n    <tr>\n      <th>0</th>\n      <td>None</td>\n      <td>1472743915</td>\n      <td>1472743915</td>\n      <td>20160901</td>\n      <td>1</td>\n      <td>1</td>\n      <td>NaN</td>\n      <td>1.0</td>\n      <td>NaN</td>\n      <td>NaN</td>\n      <td>NaN</td>\n      <td>None</td>\n      <td>(not set)</td>\n      <td>(not provided)</td>\n      <td>True</td>\n      <td>Android</td>\n      <td>Australia</td>\n      <td>Sydney</td>\n      <td>tpgi.com.au</td>\n    </tr>\n    <tr>\n      <th>1</th>\n      <td>None</td>\n      <td>1472743125</td>\n      <td>1472743125</td>\n      <td>20160901</td>\n      <td>1</td>\n      <td>1</td>\n      <td>NaN</td>\n      <td>1.0</td>\n      <td>NaN</td>\n      <td>NaN</td>\n      <td>1.0</td>\n      <td>None</td>\n      <td>(not set)</td>\n      <td>(not provided)</td>\n      <td>False</td>\n      <td>Windows</td>\n      <td>France</td>\n      <td>Paris</td>\n      <td>0pb.org</td>\n    </tr>\n    <tr>\n      <th>2</th>\n      <td>None</td>\n      <td>1472728566</td>\n      <td>1472728566</td>\n      <td>20160901</td>\n      <td>1</td>\n      <td>1</td>\n      <td>NaN</td>\n      <td>1.0</td>\n      <td>NaN</td>\n      <td>NaN</td>\n      <td>1.0</td>\n      <td>None</td>\n      <td>(not set)</td>\n      <td>None</td>\n      <td>False</td>\n      <td>Macintosh</td>\n      <td>China</td>\n      <td>not available in demo dataset</td>\n      <td>16clouds.com</td>\n    </tr>\n    <tr>\n      <th>3</th>\n      <td>None</td>\n      <td>1472792306</td>\n      <td>1472792306</td>\n      <td>20160901</td>\n      <td>1</td>\n      <td>1</td>\n      <td>NaN</td>\n      <td>1.0</td>\n      <td>NaN</td>\n      <td>NaN</td>\n      <td>1.0</td>\n      <td>None</td>\n      <td>(not set)</td>\n      <td>(not provided)</td>\n      <td>False</td>\n      <td>Windows</td>\n      <td>Belgium</td>\n      <td>(not set)</td>\n      <td>m247.com</td>\n    </tr>\n    <tr>\n      <th>4</th>\n      <td>None</td>\n      <td>1472783251</td>\n      <td>1472783251</td>\n      <td>20160901</td>\n      <td>1</td>\n      <td>1</td>\n      <td>NaN</td>\n      <td>1.0</td>\n      <td>NaN</td>\n      <td>NaN</td>\n      <td>NaN</td>\n      <td>None</td>\n      <td>(not set)</td>\n      <td>(not provided)</td>\n      <td>False</td>\n      <td>Macintosh</td>\n      <td>United States</td>\n      <td>New York</td>\n      <td>optonline.net</td>\n    </tr>\n    <tr>\n      <th>...</th>\n      <td>...</td>\n      <td>...</td>\n      <td>...</td>\n      <td>...</td>\n      <td>...</td>\n      <td>...</td>\n      <td>...</td>\n      <td>...</td>\n      <td>...</td>\n      <td>...</td>\n      <td>...</td>\n      <td>...</td>\n      <td>...</td>\n      <td>...</td>\n      <td>...</td>\n      <td>...</td>\n      <td>...</td>\n      <td>...</td>\n      <td>...</td>\n    </tr>\n    <tr>\n      <th>2682</th>\n      <td>None</td>\n      <td>1472757047</td>\n      <td>1472757047</td>\n      <td>20160901</td>\n      <td>1</td>\n      <td>14</td>\n      <td>270.0</td>\n      <td>NaN</td>\n      <td>NaN</td>\n      <td>NaN</td>\n      <td>NaN</td>\n      <td>None</td>\n      <td>(not set)</td>\n      <td>None</td>\n      <td>False</td>\n      <td>Windows</td>\n      <td>France</td>\n      <td>not available in demo dataset</td>\n      <td>unknown.unknown</td>\n    </tr>\n    <tr>\n      <th>2683</th>\n      <td>None</td>\n      <td>1472772090</td>\n      <td>1472772090</td>\n      <td>20160901</td>\n      <td>1</td>\n      <td>14</td>\n      <td>151.0</td>\n      <td>NaN</td>\n      <td>1.0</td>\n      <td>25480000.0</td>\n      <td>NaN</td>\n      <td>None</td>\n      <td>(not set)</td>\n      <td>None</td>\n      <td>False</td>\n      <td>Windows</td>\n      <td>United States</td>\n      <td>not available in demo dataset</td>\n      <td>(not set)</td>\n    </tr>\n    <tr>\n      <th>2684</th>\n      <td>None</td>\n      <td>1472737778</td>\n      <td>1472737778</td>\n      <td>20160901</td>\n      <td>1</td>\n      <td>20</td>\n      <td>463.0</td>\n      <td>NaN</td>\n      <td>NaN</td>\n      <td>NaN</td>\n      <td>1.0</td>\n      <td>None</td>\n      <td>(not set)</td>\n      <td>None</td>\n      <td>False</td>\n      <td>Windows</td>\n      <td>United States</td>\n      <td>not available in demo dataset</td>\n      <td>(not set)</td>\n    </tr>\n    <tr>\n      <th>2685</th>\n      <td>None</td>\n      <td>1472714118</td>\n      <td>1472714118</td>\n      <td>20160901</td>\n      <td>1</td>\n      <td>38</td>\n      <td>1134.0</td>\n      <td>NaN</td>\n      <td>NaN</td>\n      <td>NaN</td>\n      <td>NaN</td>\n      <td>None</td>\n      <td>(not set)</td>\n      <td>None</td>\n      <td>False</td>\n      <td>Windows</td>\n      <td>Japan</td>\n      <td>not available in demo dataset</td>\n      <td>ocn.ne.jp</td>\n    </tr>\n    <tr>\n      <th>2686</th>\n      <td>None</td>\n      <td>1472788273</td>\n      <td>1472788273</td>\n      <td>20160901</td>\n      <td>1</td>\n      <td>77</td>\n      <td>2293.0</td>\n      <td>NaN</td>\n      <td>NaN</td>\n      <td>NaN</td>\n      <td>NaN</td>\n      <td>None</td>\n      <td>(not set)</td>\n      <td>None</td>\n      <td>False</td>\n      <td>Windows</td>\n      <td>Thailand</td>\n      <td>Bangkok</td>\n      <td>unknown.unknown</td>\n    </tr>\n  </tbody>\n</table>\n<p>2687 rows × 19 columns</p>\n</div>"
     },
     "metadata": {},
     "execution_count": 6
    }
   ],
   "metadata": {},
   "execution_count": 6
  },
  {
   "cell_type": "code",
   "execution_count": null,
   "metadata": {},
   "outputs": [],
   "source": []
  }
 ],
 "metadata": {
  "kernelspec": {
   "display_name": "Python 3",
   "language": "python",
   "name": "python3"
  },
  "language_info": {
   "codemirror_mode": {
    "name": "ipython",
    "version": 3
   },
   "file_extension": ".py",
   "mimetype": "text/x-python",
   "name": "python",
   "nbconvert_exporter": "python",
   "pygments_lexer": "ipython3",
   "version": "3.7.3-final"
  }
 },
 "nbformat": 4,
 "nbformat_minor": 2
}